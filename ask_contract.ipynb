{
 "cells": [
  {
   "cell_type": "code",
   "execution_count": 1,
   "metadata": {},
   "outputs": [],
   "source": [
    "from langchain_community.embeddings import OllamaEmbeddings\n",
    "from langchain_text_splitters import RecursiveCharacterTextSplitter\n",
    "from langchain_community.vectorstores import Chroma\n",
    "from langchain.prompts import ChatPromptTemplate, PromptTemplate\n",
    "from langchain_core.output_parsers import StrOutputParser\n",
    "from langchain_community.chat_models import ChatOllama\n",
    "from langchain_core.runnables import RunnablePassthrough\n",
    "from langchain.retrievers.multi_query import MultiQueryRetriever\n",
    "from pprint import PrettyPrinter"
   ]
  },
  {
   "cell_type": "code",
   "execution_count": 2,
   "metadata": {},
   "outputs": [],
   "source": [
    "import os\n",
    "from langchain_openai import AzureChatOpenAI, AzureOpenAIEmbeddings\n",
    "from dotenv import load_dotenv\n",
    "\n",
    "load_dotenv()\n",
    "\n",
    "# Embeddings & LLM models\n",
    "llm = AzureChatOpenAI(\n",
    "    openai_api_base=\"https://free-cdo.openai.azure.com/openai/deployments/cod-free-gpt4o/chat/completions?api-version=2024-02-15-preview\",\n",
    "    openai_api_version=\"2024-02-15-preview\",\n",
    "    openai_api_type=\"azure\",\n",
    "    temperature=0.2,\n",
    "    openai_api_key=os.getenv(\"OPENAI_API_KEY\")\n",
    ")\n",
    "\n",
    "embeddings = AzureOpenAIEmbeddings(    \n",
    "    openai_api_base=\"https://cdo-aac-dev-open.openai.azure.com/openai/deployments/text-embedding-3-large/embeddings?api-version=2023-05-15\",\n",
    "    openai_api_version=\"2023-05-15\",\n",
    "    openai_api_type=\"azure\",\n",
    "    openai_api_key=os.getenv(\"OPENAI_API_KEY_EMBED\")\n",
    ")"
   ]
  },
  {
   "cell_type": "code",
   "execution_count": 4,
   "metadata": {},
   "outputs": [
    {
     "name": "stdout",
     "output_type": "stream",
     "text": [
      "NAME                       ID              SIZE      MODIFIED       \n",
      "llama3.2-vision:90b        d2a5e64c56a9    54 GB     13 minutes ago    \n",
      "llama3:latest              365c0bd3c000    4.7 GB    5 weeks ago       \n",
      "nomic-embed-text:latest    0a109f422b47    274 MB    8 months ago      \n"
     ]
    }
   ],
   "source": [
    "!ollama list\n",
    "\n",
    "#!ollama pull llama3\n",
    "# !ollama pull llama3.2-vision:90b"
   ]
  },
  {
   "cell_type": "code",
   "execution_count": 4,
   "metadata": {},
   "outputs": [],
   "source": [
    "#!ollama rm llama3.1:8b"
   ]
  },
  {
   "cell_type": "code",
   "execution_count": 3,
   "metadata": {},
   "outputs": [],
   "source": [
    "filename = \"01_contract.pdf\"\n",
    "\n",
    "file_path = f\"data/{filename}\""
   ]
  },
  {
   "cell_type": "code",
   "execution_count": 4,
   "metadata": {},
   "outputs": [],
   "source": [
    "from typing import List\n",
    "from langchain.docstore.document import Document\n",
    "from langchain.document_loaders.base import BaseLoader\n",
    "import pdfplumber\n",
    "\n",
    "class PDFPlumberLoader(BaseLoader):\n",
    "    def __init__(self, file_path: str):\n",
    "        self.file_path = file_path\n",
    "\n",
    "    def load(self) -> List[Document]:\n",
    "        documents = []\n",
    "        with pdfplumber.open(self.file_path) as pdf:\n",
    "            for page_number, page in enumerate(pdf.pages):\n",
    "                text = page.extract_text()\n",
    "                metadata = {\n",
    "                    \"source\": self.file_path,\n",
    "                    \"page\": page_number + 1,\n",
    "                    \"total_pages\": len(pdf.pages)\n",
    "                }\n",
    "                documents.append(Document(page_content=text, metadata=metadata))\n",
    "        return documents"
   ]
  },
  {
   "cell_type": "code",
   "execution_count": 5,
   "metadata": {},
   "outputs": [],
   "source": [
    "# from docling.document_converter import DocumentConverter\n",
    "\n",
    "# converter = DocumentConverter()\n",
    "#result = converter.convert(source = file_path)"
   ]
  },
  {
   "cell_type": "code",
   "execution_count": 6,
   "metadata": {},
   "outputs": [],
   "source": [
    "#text = result.document.export_to_markdown()\n",
    "\n",
    "#print(text)"
   ]
  },
  {
   "cell_type": "code",
   "execution_count": 7,
   "metadata": {},
   "outputs": [],
   "source": [
    "# from typing import Iterator\n",
    "# from langchain_core.document_loaders import BaseLoader\n",
    "# from langchain_core.documents import Document\n",
    "# from docling.document_converter import DocumentConverter\n",
    "\n",
    "# class DoclingPDFLoader(BaseLoader):\n",
    "\n",
    "#     def __init__(self, file_path: str | list[str]) -> None:\n",
    "#         self._file_paths = file_path if isinstance(file_path, list) else [file_path]\n",
    "#         self._converter = DocumentConverter()\n",
    "\n",
    "#     def lazy_load(self) -> Iterator[Document]:\n",
    "#         for source in self._file_paths:\n",
    "#             dl_doc = self._converter.convert(source).document\n",
    "#             text = dl_doc.export_to_markdown()\n",
    "#             yield Document(page_content=text)"
   ]
  },
  {
   "cell_type": "code",
   "execution_count": 12,
   "metadata": {},
   "outputs": [],
   "source": [
    "\t\n",
    "from langchain_text_splitters import RecursiveCharacterTextSplitter\n",
    "\n",
    "loader = PDFPlumberLoader(file_path=file_path)\n",
    "#loader = DoclingPDFLoader(file_path=file_path)\n",
    "\n",
    "text_splitter = RecursiveCharacterTextSplitter(\n",
    "    chunk_size=2000,\n",
    "    chunk_overlap=200,\n",
    ")"
   ]
  },
  {
   "cell_type": "code",
   "execution_count": 13,
   "metadata": {},
   "outputs": [],
   "source": [
    "docs = loader.load()\n",
    "\n",
    "chunks = text_splitter.split_documents(docs)"
   ]
  },
  {
   "cell_type": "code",
   "execution_count": 42,
   "metadata": {},
   "outputs": [],
   "source": [
    "from langchain_community.vectorstores import Chroma\n",
    "\n",
    "vectorstore = Chroma.from_documents(documents=chunks, embedding=embeddings)"
   ]
  },
  {
   "cell_type": "code",
   "execution_count": 22,
   "metadata": {},
   "outputs": [],
   "source": [
    "# via Ollama\n",
    "vectorstore = Chroma.from_documents(\n",
    "        documents=chunks, \n",
    "        embedding=OllamaEmbeddings(model=\"nomic-embed-text\", show_progress=False),\n",
    "        collection_name=\"local-rag\"\n",
    ")"
   ]
  },
  {
   "cell_type": "code",
   "execution_count": 43,
   "metadata": {},
   "outputs": [],
   "source": [
    "retriever = vectorstore.as_retriever()"
   ]
  },
  {
   "cell_type": "code",
   "execution_count": 44,
   "metadata": {},
   "outputs": [],
   "source": [
    "from pydantic import BaseModel, Field\n",
    "from langchain_core.output_parsers import JsonOutputParser\n",
    "\n",
    "class OutputStructure(BaseModel):\n",
    "    input_text: str = Field(description=\"The input text\")\n",
    "    response: str = Field(description=\"The response to the query\", example=\"Der Name des Ehepartners ist nicht bekannt.\", default=\"Der Name des Ehepartners ist nicht bekannt.\")\n",
    "    reasoning: str = Field(description=\"The reasoning behind the response\", example=\"Der Name des Ehepartners ist nicht im Vertrag angegeben.\", default=\"Der Name des Ehepartners ist nicht im Vertrag angegeben.\")\n",
    " \n",
    "parser = JsonOutputParser(pydantic_object=OutputStructure)"
   ]
  },
  {
   "cell_type": "code",
   "execution_count": 5,
   "metadata": {},
   "outputs": [],
   "source": [
    "from langchain_community.chat_models import ChatOllama\n",
    "# from langchain_core.output_parsers import StrOutputParser\n",
    "# from langchain_core.prompts import ChatPromptTemplate\n",
    "\n",
    "llm = ChatOllama(model=\"llama3\", temperature=0.1)"
   ]
  },
  {
   "cell_type": "code",
   "execution_count": 45,
   "metadata": {},
   "outputs": [],
   "source": [
    "prompt = PromptTemplate(\n",
    "    input_variables=[\"question\", \"context\"],\n",
    "    template=\"\"\"\n",
    "    You are an assistant for legal question answering. \n",
    "    Answer all questions in German and please give also a reasoning for your response.\n",
    "    Here is the question {question} you have to answer based on the following contract context {context}.\n",
    "    If the provided context contains no answer to the question respond with an empty string, do not come up with an answer in this case. \n",
    "    Limit your answer to 1000 characters.\\n {format_instructions}.\n",
    "    \"\"\",\n",
    "    partial_variables={\"format_instructions\": parser.get_format_instructions()},\n",
    ")"
   ]
  },
  {
   "cell_type": "code",
   "execution_count": 6,
   "metadata": {},
   "outputs": [
    {
     "name": "stdout",
     "output_type": "stream",
     "text": [
      "Research Report: Who is Yan Lecun?\n",
      "\n",
      "Based on the provided web search context, Yan Lecun is a renowned computer scientist and artificial intelligence (AI) expert. He is best known for his work in developing convolutional neural networks (CNNs), which are a type of deep learning algorithm.\n",
      "\n",
      "According to the search results, Yan Lecun is a professor at New York University's Center for Data Science and a research scientist at Facebook AI. He has made significant contributions to the field of computer vision and has published numerous papers on topics such as image recognition, object detection, and generative models.\n",
      "\n",
      "Lecun is also credited with developing the LeNet-1 and LeNet-5 neural networks, which are early examples of CNNs that achieved state-of-the-art performance in image classification tasks. His work has had a profound impact on the development of AI and machine learning, and he is widely recognized as one of the pioneers in the field.\n",
      "\n",
      "References:\n",
      "\n",
      "* [Source 1]: \"Yan Lecun: A Pioneer in Computer Vision\" (online article)\n",
      "* [Source 2]: \"Yan Lecun's Research Profile\" (academic website)\n",
      "\n",
      "Note: The provided web search context does not provide further information on Yan Lecun's personal life, education, or other achievements.\n"
     ]
    }
   ],
   "source": [
    "generate_prompt = PromptTemplate(\n",
    "    template=\"\"\"\n",
    "    \n",
    "    <|begin_of_text|>\n",
    "    \n",
    "    <|start_header_id|>system<|end_header_id|> \n",
    "    \n",
    "    You are an AI assistant for Research Question Tasks, that synthesizes web search results. \n",
    "    Strictly use the following pieces of web search context to answer the question. \n",
    "    If you don't know the answer, just say that you don't know. \n",
    "    keep the answer concise, but provide all of the details you can in the form of a research report. \n",
    "    Only make direct references to material if provided in the context.\n",
    "    \n",
    "    <|eot_id|>\n",
    "    \n",
    "    <|start_header_id|>user<|end_header_id|>\n",
    "    \n",
    "    Question: {question} \n",
    "    Web Search Context: {context} \n",
    "    Answer: \n",
    "    \n",
    "    <|eot_id|>\n",
    "    \n",
    "    <|start_header_id|>assistant<|end_header_id|>\"\"\",\n",
    "    input_variables=[\"question\", \"context\"],\n",
    ")\n",
    "\n",
    "# Chain\n",
    "generate_chain = generate_prompt | llm | StrOutputParser()\n",
    "\n",
    "# Test Run\n",
    "question = \"who is Yan Lecun?\"\n",
    "context = \"\"\n",
    "\n",
    "generation = generate_chain.invoke({\"context\": context, \"question\": question})\n",
    "print(generation)"
   ]
  },
  {
   "cell_type": "code",
   "execution_count": 65,
   "metadata": {},
   "outputs": [],
   "source": [
    "# retriever = MultiQueryRetriever.from_llm(\n",
    "#     vectorstore.as_retriever(), \n",
    "#     llm,\n",
    "#     # prompt=prompt,\n",
    "# )"
   ]
  },
  {
   "cell_type": "code",
   "execution_count": 31,
   "metadata": {},
   "outputs": [
    {
     "data": {
      "text/plain": [
       "[Document(page_content='- 5 -\\nbenenfalls zuzüglich des seit der Verwendung eingetretenen Geldwertverlusts,\\ndem Endvermögen des Eigentümers des Immobilieneigentumes hinzugerech-\\nnet. Sie unterliegen also dem Zugewinn. Entsprechendes gilt für Verwendungen\\ndes anderen Ehegatten auf den vom Zugewinnausgleich ausgenommenen Im-\\nmobilieneigentum. Verwendungen liegen dabei auch vor, wenn auf dem aus-\\ngleichsfreien Vermögen lastende Schulden getilgt werden, also nicht nur bei\\nSachaufwendungen im eigentlichen Sinne.\\n(4) Zur Befriedigung einer etwaigen Zugewinnausgleichsforderung gilt das vom\\nZugewinn ausgenommene Vermögen im Sinne von § 1378 II 1 BGB als vor-\\nhandenes Vermögen.\\n(5) Wir schließen hiermit die Verfügungsbeschränkungen der §§ 1365, 1369\\nBGB für das beiderseitige Vermögen aus, so dass jeder Ehegatte berechtigt ist,\\nohne Zustimmung des anderen über sein Vermögen im Ganzen und über\\nHaushaltsgegenstände allein zu verfügen.\\n(6) Im Fall der Beendigung unserer Ehe durch den Tod eines Ehegatten sowie\\nim Fall der Beendigung des gesetzlichen Güterstands durch ehevertragliche\\nVereinbarung von Gütertrennung, soll es beim Zugewinnausgleich nach den\\ngesetzlichen Bestimmungen verbleiben.\\n2.\\nAusgleichszahlung\\nAls Ausgleich für die Modifizierung der Zugewinngemeinschaft gemäß Ziff. 1.\\nverpflichtet sich der Ehemann, an die Ehefrau einen Betrag in Höhe von\\n15.000 EUR zu zahlen. Die Zahlung ist fällig nach Ablauf einer Woche ab heu-\\nte, dem Tag der Beurkundung. [???:»Eine Unterwerfung unter die sofortige\\nZwangsvollstreckung war nicht gewünscht.\\n3.\\nHinweise des Notars\\na)\\nWir wurden vom Notar darauf hingewiesen, dass es sich – um etwaige Schwie-\\nrigkeiten bei der Berechnung der Zugewinnausgleichsforderung im Scheidungs-\\nfall zu vermeiden – empfiehlt, die jeweiligen Vermögensmassen strikt zu tren-\\nV 169040', metadata={'page': 5, 'source': 'data/01_contract.pdf', 'total_pages': 9}),\n",
       " Document(page_content='- 7 -\\n§ 4\\nNachehelicher Unterhalt\\n1.\\nEhe mit Kindern\\nFür den Fall, dass gemeinsame Kinder aus unserer Ehe hervorgehen oder\\nadoptiert werden, soll es in Bezug auf den nachehelichen Unterhalt bei allen\\ngesetzlichen Ansprüchen auf nachehelichen Ehegattenunterhalt verbleiben.\\n2.\\nEhe ohne Kinder\\nFür den Fall, dass keine gemeinsamen Kinder aus unserer Ehe hervorgehen\\noder adoptiert werden, so befristen wir sämtliche nachehelichen Ansprüche auf\\nEhegattenunterhalt auf 29% der Ehedauer. Die Ehedauer bemisst sich von\\nZeitpunkt der Heirat bis zur rechtskräftigen Scheidung.\\n§ 5\\nKeine erbrechtlichen Vereinbarungen\\nWir wollen zu dieser Urkunde keine erbrechtlichen Regelungen, insb. keine Erb-\\nund Pflichtteilsverzichte, vereinbaren.\\n§ 6\\nHinweise, Selbständigkeit der getroffenen Vereinbarungen\\n1.\\nDer Notar hat darauf hingewiesen, dass ehevertragliche Vereinbarungen un-\\nwirksam sein können, wenn sie einen Vertragsteil unangemessen benachteili-\\ngen, aus einer erheblich ungleichen Verhandlungsposition heraus oder in einer\\nNotlage geschlossen wurden. Hierzu erklären wir, dass wir beide ein regelmä-\\nßiges gesichertes Einkommen beziehen und bei keinem eine Notlage besteht.\\nDer heutige Vertragsabschluss erfolgt nach individueller Verhandlungsführung,\\nEntwurfsfassung, reiflichen Überlegungen und abgestimmt auf unsere Lebens-\\nsituation. Der Notar hat weiter darauf hingewiesen, dass ehevertragliche Ver-\\neinbarungen von den Gerichten späterhin modifiziert werden können, wenn sich\\ndie angedachten Lebensumstände erheblich ändern. Der Notar hat empfohlen\\nV 169040', metadata={'page': 7, 'source': 'data/01_contract.pdf', 'total_pages': 9}),\n",
       " Document(page_content='- 8 -\\nsie anzupassen, wenn sich die tatsächlichen Verhältnisse ändern. Im Hinblick\\ndarauf sollten Eheverträge regelmäßig von den Beteiligten überprüft werden.\\n2.\\nSollten einzelne Bestimmungen dieses Vertrages unwirksam sein oder werden\\noder sollte sich im Vertrag eine Regelungslücke zeigen, so wird die Wirksamkeit\\nder übrigen Bestimmungen hierdurch nicht berührt. Die Beteiligten verpflichten\\nsich für diesen Fall, eine ersetzende Bestimmung zu vereinbaren, die dem wirt-\\nschaftlichen Sinn der unwirksamen Bestimmung im Gesamtzusammenhang der\\ngetroffenen Regelung in rechtlich zulässiger Weise am nächsten kommt, oder\\neine neue Bestimmung zu treffen, welche die Regelungslücke des Vertrages so\\nschließt, als hätten sie diesen Punkt von vornherein bedacht. Gleiches gilt,\\nwenn einzelne Regelungen der Ausübungskontrolle unterliegen.\\n3.\\nSofern im Rahmen einer Inhaltskontrolle eine Bestimmung dieses Vertrages für\\nunwirksam oder unanwendbar gehalten wird, so verpflichten wir uns für diesen\\nFall, die entsprechende Bestimmung so abzuändern, dass in dem betroffenen\\nBereich alle ehebedingten Nachteile eines Ehegatten ausgeglichen werden.\\n4.\\nDer Notar hat die Vertragsteile befragt, ob Vertragsbestimmungen für sie so\\nmiteinander verbunden sind, dass die Unwirksamkeit der einen auch die der\\nanderen zur Folge haben soll. Hierauf erklären die Vertragsteile: Wir wünschen\\nkeine von der salvatorischen Klausel abweichende Festlegung für bestimmte\\nVertragsklauseln.\\n§ 7\\nKosten, Abschriften\\nWir tragen die Kosten dieser Urkunde und beantragen, uns je eine beglaubigte\\nAbschrift zu erteilen. Eine Abschrift ist ferner an die Kanzlei Graßinger & Kolle-\\ngen zu senden.\\nVorgelesen vom Notar,\\nvon den Beteiligten genehmigt\\nV 169040', metadata={'page': 8, 'source': 'data/01_contract.pdf', 'total_pages': 9}),\n",
       " Document(page_content='- 9 -\\nund eigenhändig unterschrieben:\\nV 169040', metadata={'page': 9, 'source': 'data/01_contract.pdf', 'total_pages': 9})]"
      ]
     },
     "execution_count": 31,
     "metadata": {},
     "output_type": "execute_result"
    }
   ],
   "source": [
    "question = \"Wie heißt der Notar?\"\n",
    "\n",
    "retriever.get_relevant_documents(query=question)"
   ]
  },
  {
   "cell_type": "code",
   "execution_count": 46,
   "metadata": {},
   "outputs": [],
   "source": [
    "chain = (\n",
    "    {\"context\": lambda x: retriever.get_relevant_documents(x[\"question\"]), \n",
    "     \"question\": RunnablePassthrough()}\n",
    "    | prompt\n",
    "    | llm\n",
    "    | parser\n",
    ")\n",
    "\n",
    "# chain = prompt | llm | StrOutputParser()\n",
    "\n",
    "# chain = (\n",
    "#     {\"context\": retriever, \"question\": RunnablePassthrough()}\n",
    "#     | prompt\n",
    "#     | llm\n",
    "#     | parser\n",
    "# )"
   ]
  },
  {
   "cell_type": "code",
   "execution_count": 48,
   "metadata": {},
   "outputs": [
    {
     "name": "stdout",
     "output_type": "stream",
     "text": [
      "{'input_text': 'Wieviel Geld muss wer an wen zahlen?',\n",
      " 'reasoning': 'Im Vertragstext wird ausdrücklich erwähnt, dass der Ehemann '\n",
      "              'sich verpflichtet, an die Ehefrau einen Betrag in Höhe von '\n",
      "              '15.000 EUR zu zahlen. Diese Zahlung ist fällig innerhalb einer '\n",
      "              'Woche nach dem Tag der Beurkundung.',\n",
      " 'response': 'Der Ehemann muss an die Ehefrau einen Betrag in Höhe von 15.000 '\n",
      "             'EUR zahlen.'}\n"
     ]
    }
   ],
   "source": [
    "question = \"Wieviel Geld muss wer an wen zahlen?\"\n",
    "\n",
    "result = chain.invoke({\"question\": question})\n",
    "# result = await chain.ainvoke({\"question\": question})\n",
    "\n",
    "PrettyPrinter().pprint(result)"
   ]
  },
  {
   "cell_type": "code",
   "execution_count": null,
   "metadata": {},
   "outputs": [],
   "source": [
    "question_text = \"Wie heißt der Notar?\"\n",
    "\n",
    "# # Process all chunks in parallel using batch\n",
    "# results = chain.batch(\n",
    "#      [{\"context\": chunk.page_content, \"question\": question_text} for chunk in chunks], \n",
    "#       #{\"max_concurrency\": 3}\n",
    "# )\n",
    "\n",
    "# results = await chain.abatch(\n",
    "#     [{\"context\": chunk.page_content, \"question\": question_text} for chunk in chunks], \n",
    "#     {\"max_concurrency\": 10}\n",
    "# )"
   ]
  },
  {
   "cell_type": "code",
   "execution_count": 40,
   "metadata": {},
   "outputs": [
    {
     "name": "stdout",
     "output_type": "stream",
     "text": [
      "{'input_text': 'What is the name of the husband?',\n",
      " 'reasoning': 'The context does not mention the name of the husband.',\n",
      " 'response': 'Der Name des Ehemannes ist nicht im Vertrag angegeben.'}\n"
     ]
    }
   ],
   "source": [
    "#response = chain.invoke({\"question\": \"Wie heißt der Notar?\"})\n",
    "\n",
    "PrettyPrinter().pprint(result)"
   ]
  },
  {
   "cell_type": "code",
   "execution_count": null,
   "metadata": {},
   "outputs": [],
   "source": []
  }
 ],
 "metadata": {
  "kernelspec": {
   "display_name": "env_sandy",
   "language": "python",
   "name": "python3"
  },
  "language_info": {
   "codemirror_mode": {
    "name": "ipython",
    "version": 3
   },
   "file_extension": ".py",
   "mimetype": "text/x-python",
   "name": "python",
   "nbconvert_exporter": "python",
   "pygments_lexer": "ipython3",
   "version": "3.10.14"
  }
 },
 "nbformat": 4,
 "nbformat_minor": 2
}
